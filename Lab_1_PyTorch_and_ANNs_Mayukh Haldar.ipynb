{
  "nbformat": 4,
  "nbformat_minor": 0,
  "metadata": {
    "colab": {
      "name": "Lab_1_PyTorch_and_ANNs.ipynb",
      "provenance": [],
      "collapsed_sections": []
    },
    "kernelspec": {
      "display_name": "Python 3",
      "language": "python",
      "name": "python3"
    },
    "language_info": {
      "codemirror_mode": {
        "name": "ipython",
        "version": 3
      },
      "file_extension": ".py",
      "mimetype": "text/x-python",
      "name": "python",
      "nbconvert_exporter": "python",
      "pygments_lexer": "ipython3",
      "version": "3.7.4"
    }
  },
  "cells": [
    {
      "cell_type": "markdown",
      "metadata": {
        "id": "3sxa8YxCbzGL"
      },
      "source": [
        "# Lab 1. PyTorch and ANNs\n",
        "\n",
        "**Deadline**: Thursday, Oct 1, 11:59pm.\n",
        "\n",
        "**Total**: 30 Points\n",
        "\n",
        "**Late Penalty**: There is a penalty-free grace period of one hour past the deadline. Any work that is submitted between 1 hour and 24 hours past the deadline will receive a 20% grade deduction. No other late work is accepted. Quercus submission time will be used, not your local computer time. You can submit your labs as many times as you want before the deadline, so please submit often and early.\n",
        "\n",
        "**Grading TA**: Justin Beland\n",
        "\n",
        "This lab is partially based on an assignment developed by Prof. Jonathan Rose and Harris Chan.\n",
        "\n",
        "This lab is a warm up to get you used to the PyTorch programming environment used\n",
        "in the course, and also to help you review and renew your knowledge\n",
        "of Python and relevant Python libraries.\n",
        "The lab must be done individually. Please recall that the\n",
        "University of Toronto plagarism rules apply.\n",
        "\n",
        "By the end of this lab, you should be able to:\n",
        "\n",
        "1. Be able to perform basic PyTorch tensor operations.\n",
        "2. Be able to load data into PyTorch\n",
        "3. Be able to configure an Artificial Neural Network (ANN) using PyTorch\n",
        "4. Be able to train ANNs using PyTorch\n",
        "5. Be able to evaluate different ANN configuations\n",
        "\n",
        "You will need to use numpy and PyTorch documentations for this assignment:\n",
        "\n",
        "* https://docs.scipy.org/doc/numpy/reference/\n",
        "* https://pytorch.org/docs/stable/torch.html\n",
        "\n",
        "You can also reference Python API documentations freely.\n",
        "\n",
        "\n",
        "### What to submit\n",
        "\n",
        "Submit a PDF file containing all your code, outputs, and write-up\n",
        "from parts 1-5. You can produce a PDF of your Google Colab file by\n",
        "going to **File > Print** and then save as PDF. The Colab instructions\n",
        "has more information.\n",
        "\n",
        "**Do not submit any other files produced by your code.**\n",
        "\n",
        "Include a link to your colab file in your submission.\n",
        "\n",
        "Please use Google Colab to complete this assignment. If you want to use Jupyter Notebook, please complete the assignment and upload your Jupyter Notebook file to Google Colab for submission. \n",
        "\n",
        "With Colab, you can export a PDF file using the menu option\n",
        "`File -> Print` and save as PDF file.  **Adjust the scaling to ensure that the text is not cutoff at the margins.**"
      ]
    },
    {
      "cell_type": "markdown",
      "metadata": {
        "id": "_TlLBrWBIGt0"
      },
      "source": [
        "## Colab Link\n",
        "\n",
        "Submit make sure to include a link to your colab file here\n",
        "\n",
        "Colab Link: https://colab.research.google.com/drive/1Di4JHPZmlHarz1LOBZ9uQ-zhubW6eqVS?usp=sharing"
      ]
    },
    {
      "cell_type": "markdown",
      "metadata": {
        "id": "mALD3Y2bbzGT"
      },
      "source": [
        "## Part 1. Python Basics [3 pt]\n",
        "\n",
        "The purpose of this section is to get you used to the \n",
        "basics of Python, including working with functions, numbers,\n",
        "lists, and strings.\n",
        "\n",
        "Note that we **will** be checking your code for clarity and efficiency.\n",
        "\n",
        "If you have trouble with this part of the assignment, please review http://cs231n.github.io/python-numpy-tutorial/"
      ]
    },
    {
      "cell_type": "markdown",
      "metadata": {
        "id": "7gimRTE9bzGa"
      },
      "source": [
        "### Part (a) -- 1pt\n",
        "\n",
        "Write a function `sum_of_cubes` that computes the sum of cubes up to `n`. If the input to `sum_of_cubes` invalid (e.g. negative or non-integer `n`), the function should print out `\"Invalid input\"` and return `-1`."
      ]
    },
    {
      "cell_type": "code",
      "metadata": {
        "id": "fifG_Wv6bzGf",
        "outputId": "059682b6-3ecd-4976-eea9-f8cba2d9f822",
        "colab": {
          "base_uri": "https://localhost:8080/",
          "height": 34
        }
      },
      "source": [
        "def sum_of_cubes(n):\n",
        "    \"\"\"Return the sum (1^3 + 2^3 + 3^3 + ... + n^3)\n",
        "\n",
        "    Precondition: n > 0, type(n) == int\n",
        "    \n",
        "    >>> sum_of_cubes(3)\n",
        "    36\n",
        "    >>> sum_of_cubes(1)\n",
        "    1\n",
        "    \"\"\"\n",
        "    if type(n) == int:\n",
        "      if n > 0:\n",
        "        \n",
        "        sum = 0\n",
        "        for i in range(n+1):\n",
        "          sum = sum + (i**3)\n",
        "\n",
        "        return sum\n",
        "\n",
        "      else:\n",
        "        print(\"Invalid input\")\n",
        "        return -1\n",
        "    else:\n",
        "      print(\"Invalid input\")\n",
        "      return -1\n",
        "\n",
        "print(sum_of_cubes(3))\n",
        "\n",
        "#This is my trial code"
      ],
      "execution_count": null,
      "outputs": [
        {
          "output_type": "stream",
          "text": [
            "36\n"
          ],
          "name": "stdout"
        }
      ]
    },
    {
      "cell_type": "markdown",
      "metadata": {
        "id": "bOxDP8AlbzG2"
      },
      "source": [
        "### Part (b) -- 1pt\n",
        "\n",
        "Write a function `word_lengths` that takes a sentence (string), computes the length of each word in that sentence, and returns the length of each word in a list. You can\n",
        "assume that words are always separated by a space character `\" \"`.\n",
        "\n",
        "Hint: recall the `str.split` function in Python.\n",
        "If you arenot sure how this function works, try\n",
        "typing `help(str.split)` into a Python shell, or check out https://docs.python.org/3.6/library/stdtypes.html#str.split"
      ]
    },
    {
      "cell_type": "code",
      "metadata": {
        "id": "w1lbnwgsbzHG",
        "outputId": "dcab73f8-c342-472c-f470-f5ed09bfee80",
        "colab": {
          "base_uri": "https://localhost:8080/",
          "height": 34
        }
      },
      "source": [
        "def word_lengths(sentence):\n",
        "    \"\"\"Return a list containing the length of each word in\n",
        "    sentence.\n",
        "    \n",
        "    >>> word_lengths(\"welcome to APS360!\")\n",
        "    [7, 2, 7]\n",
        "    >>> word_lengths(\"machine learning is so cool\")\n",
        "    [7, 8, 2, 2, 4]\n",
        "    \"\"\"\n",
        "    splited = sentence.split()\n",
        "    count = []\n",
        "\n",
        "    for i in range(len(splited)):\n",
        "      count.append(len(splited[i])) \n",
        "\n",
        "    return count\n",
        "\n",
        "word_lengths(\"machine learning is so cool\")"
      ],
      "execution_count": null,
      "outputs": [
        {
          "output_type": "execute_result",
          "data": {
            "text/plain": [
              "[7, 8, 2, 2, 4]"
            ]
          },
          "metadata": {
            "tags": []
          },
          "execution_count": 25
        }
      ]
    },
    {
      "cell_type": "markdown",
      "metadata": {
        "id": "iCsnzu4NIGuD"
      },
      "source": [
        "### Part (c) -- 1pt\n",
        "\n",
        "Write a function `all_same_length` that takes a sentence (string),\n",
        "and checks whether every word in the string is the same length.\n",
        "You should call the function `word_lengths` in the body\n",
        "of this new function.\n"
      ]
    },
    {
      "cell_type": "code",
      "metadata": {
        "id": "Z-7qytZEIGuE",
        "outputId": "c4cdb140-f318-4eca-9124-a053f1551acb",
        "colab": {
          "base_uri": "https://localhost:8080/",
          "height": 34
        }
      },
      "source": [
        "def all_same_length(sentence):\n",
        "    \"\"\"Return True if every word in sentence has the same\n",
        "    length, and False otherwise.\n",
        "    \n",
        "    >>> all_same_length(\"all same length\")\n",
        "    False\n",
        "    >>> word_lengths(\"hello world\")\n",
        "    True\n",
        "    \"\"\"\n",
        "    \n",
        "    counts_of_words = word_lengths(sentence)\n",
        "    same_flag = True\n",
        "    x = counts_of_words[0]\n",
        "\n",
        "    for i in range(len(counts_of_words)):\n",
        "      y = counts_of_words[i]\n",
        "      if x != y:\n",
        "        same_flag = False\n",
        "\n",
        "    return same_flag \n",
        "    \n",
        "all_same_length(\"hello world\")\n",
        "\n"
      ],
      "execution_count": null,
      "outputs": [
        {
          "output_type": "execute_result",
          "data": {
            "text/plain": [
              "True"
            ]
          },
          "metadata": {
            "tags": []
          },
          "execution_count": 26
        }
      ]
    },
    {
      "cell_type": "markdown",
      "metadata": {
        "id": "yUh1MySTbzHT"
      },
      "source": [
        "## Part 2. NumPy Exercises [5 pt]\n",
        "\n",
        "In this part of the assignment, you'll be manipulating arrays \n",
        "usign NumPy. Normally, we use the shorter name `np` to represent\n",
        "the package `numpy`."
      ]
    },
    {
      "cell_type": "code",
      "metadata": {
        "id": "H2opcxqMbzHW"
      },
      "source": [
        "import numpy as np"
      ],
      "execution_count": null,
      "outputs": []
    },
    {
      "cell_type": "markdown",
      "metadata": {
        "id": "Ek29jdqPbzHf"
      },
      "source": [
        "### Part (a) -- 1pt\n",
        "\n",
        "The below variables `matrix` and `vector` are numpy arrays. Explain what you think `<NumpyArray>.size` and `<NumpyArray>.shape` represent."
      ]
    },
    {
      "cell_type": "code",
      "metadata": {
        "id": "Z6eniOV2bzHi"
      },
      "source": [
        "matrix = np.array([[1., 2., 3., 0.5],\n",
        "                   [4., 5., 0., 0.],\n",
        "                   [-1., -2., 1., 1.]])\n",
        "vector = np.array([2., 0., 1., -2.])"
      ],
      "execution_count": null,
      "outputs": []
    },
    {
      "cell_type": "code",
      "metadata": {
        "id": "JMIy15dKIGuP",
        "outputId": "0d986e40-fc06-49cd-ab9d-79d4d7138b92",
        "colab": {
          "base_uri": "https://localhost:8080/",
          "height": 34
        }
      },
      "source": [
        "# the number of elements in the matrix\n",
        "matrix.size"
      ],
      "execution_count": null,
      "outputs": [
        {
          "output_type": "execute_result",
          "data": {
            "text/plain": [
              "12"
            ]
          },
          "metadata": {
            "tags": []
          },
          "execution_count": 29
        }
      ]
    },
    {
      "cell_type": "code",
      "metadata": {
        "id": "QoHaPzDNbzHo",
        "scrolled": true,
        "outputId": "e4b23190-8f9a-4096-d3eb-dc85a954f73d",
        "colab": {
          "base_uri": "https://localhost:8080/",
          "height": 34
        }
      },
      "source": [
        "# returns the shape tuple, since it's 2D, it shows the row by column parameters of the matrix, this is a 3 by 4 matrix, 3 rows with 4 columns each\n",
        "matrix.shape"
      ],
      "execution_count": null,
      "outputs": [
        {
          "output_type": "execute_result",
          "data": {
            "text/plain": [
              "(3, 4)"
            ]
          },
          "metadata": {
            "tags": []
          },
          "execution_count": 30
        }
      ]
    },
    {
      "cell_type": "code",
      "metadata": {
        "id": "dErt6w25bzHu",
        "outputId": "96977632-a6bf-4663-a9bd-f6403c12dc12",
        "colab": {
          "base_uri": "https://localhost:8080/",
          "height": 34
        }
      },
      "source": [
        "# the number of elements in the vector\n",
        "vector.size"
      ],
      "execution_count": null,
      "outputs": [
        {
          "output_type": "execute_result",
          "data": {
            "text/plain": [
              "4"
            ]
          },
          "metadata": {
            "tags": []
          },
          "execution_count": 31
        }
      ]
    },
    {
      "cell_type": "code",
      "metadata": {
        "id": "TXhHCchIIGua",
        "outputId": "0f2d21f9-bcc6-4242-b9a1-7032f1c9683c",
        "colab": {
          "base_uri": "https://localhost:8080/",
          "height": 34
        }
      },
      "source": [
        "# returns shape tuple depending on array dimension, since its 1D it returns one parameter\n",
        "vector.shape"
      ],
      "execution_count": null,
      "outputs": [
        {
          "output_type": "execute_result",
          "data": {
            "text/plain": [
              "(4,)"
            ]
          },
          "metadata": {
            "tags": []
          },
          "execution_count": 32
        }
      ]
    },
    {
      "cell_type": "markdown",
      "metadata": {
        "id": "9PQ-pRIlbzH8"
      },
      "source": [
        "### Part (b) -- 1pt\n",
        "\n",
        "Perform matrix multiplication `output = matrix x vector` by using\n",
        "for loops to iterate through the columns and rows.\n",
        "Do not use any builtin NumPy functions.\n",
        "Cast your output into a NumPy array, if it isn't one already.\n",
        "\n",
        "Hint: be mindful of the dimension of output"
      ]
    },
    {
      "cell_type": "code",
      "metadata": {
        "id": "SXnZFii2bzH-"
      },
      "source": [
        "output = None"
      ],
      "execution_count": null,
      "outputs": []
    },
    {
      "cell_type": "code",
      "metadata": {
        "id": "BiIVqVvvbzII",
        "outputId": "bddbf98d-15ce-4c66-dcb3-03e76c01ac2c",
        "colab": {
          "base_uri": "https://localhost:8080/",
          "height": 34
        }
      },
      "source": [
        "\n",
        "# the respective dimensions of the result matrix is 1 array of 3 elements\n",
        "output = []\n",
        "\n",
        "for i in range(len(matrix)):\n",
        "  sum = 0\n",
        "  for j in range(len(vector)):\n",
        "    sum = sum + matrix[i][j]*vector[j]\n",
        "\n",
        "  output.append(sum)\n",
        "  \n",
        "print(output)"
      ],
      "execution_count": null,
      "outputs": [
        {
          "output_type": "stream",
          "text": [
            "[4.0, 8.0, -3.0]\n"
          ],
          "name": "stdout"
        }
      ]
    },
    {
      "cell_type": "markdown",
      "metadata": {
        "id": "Bk3BPjzdUvBW"
      },
      "source": [
        ""
      ]
    },
    {
      "cell_type": "markdown",
      "metadata": {
        "id": "O5UhbilNbzIP"
      },
      "source": [
        "### Part (c) -- 1pt\n",
        "\n",
        "Perform matrix multiplication `output2 = matrix x vector` by using\n",
        "the function `numpy.dot`.\n",
        "\n",
        "We will never actually write code as in\n",
        "part(c), not only because `numpy.dot` is more concise and easier to read/write, but also performance-wise `numpy.dot` is much faster (it is written in C and highly optimized).\n",
        "In general, we will avoid for loops in our code."
      ]
    },
    {
      "cell_type": "code",
      "metadata": {
        "id": "e8dLVrMEbzIR"
      },
      "source": [
        "output2 = None"
      ],
      "execution_count": null,
      "outputs": []
    },
    {
      "cell_type": "code",
      "metadata": {
        "id": "X1LqY1eKbzIV",
        "outputId": "7cd3b32a-e9cc-44cf-c2e3-9471d06cfd16",
        "colab": {
          "base_uri": "https://localhost:8080/",
          "height": 34
        }
      },
      "source": [
        "output2 = matrix.dot(vector)\n",
        "print(output2)"
      ],
      "execution_count": null,
      "outputs": [
        {
          "output_type": "stream",
          "text": [
            "[ 4.  8. -3.]\n"
          ],
          "name": "stdout"
        }
      ]
    },
    {
      "cell_type": "markdown",
      "metadata": {
        "id": "77XioX6vbzIb"
      },
      "source": [
        "### Part (d) -- 1pt\n",
        "\n",
        "As a way to test for consistency, show that the two outputs match."
      ]
    },
    {
      "cell_type": "code",
      "metadata": {
        "id": "1Vc-Nvf0bzIc",
        "outputId": "6bb4bc61-792b-412d-9443-00456a3d3b07",
        "colab": {
          "base_uri": "https://localhost:8080/",
          "height": 50
        }
      },
      "source": [
        "same_flag = True\n",
        "for i in range(len(output)):\n",
        "  if output[i] != output2[i]:\n",
        "    same_flag = False\n",
        "\n",
        "print(same_flag)\n",
        "if same_flag:\n",
        "  print(\"Outputs are the same!\")"
      ],
      "execution_count": null,
      "outputs": [
        {
          "output_type": "stream",
          "text": [
            "True\n",
            "Outputs are the same!\n"
          ],
          "name": "stdout"
        }
      ]
    },
    {
      "cell_type": "markdown",
      "metadata": {
        "id": "wjEGmk8oIGur"
      },
      "source": [
        "### Part (e) -- 1pt\n",
        "\n",
        "Show that using `np.dot` is faster than using your code from part (c).\n",
        "\n",
        "You may find the below code snippit helpful:"
      ]
    },
    {
      "cell_type": "code",
      "metadata": {
        "id": "XlnE0XO8IGur",
        "outputId": "9242cc74-3cde-4687-ab9a-b2c9047f61d3",
        "colab": {
          "base_uri": "https://localhost:8080/",
          "height": 34
        }
      },
      "source": [
        "import time\n",
        "\n",
        "# record the time before running code\n",
        "start_time = time.time()\n",
        "\n",
        "# place code to run here\n",
        "# the respective dimensions of the result matrix is 1 array of 3 elements\n",
        "output = []\n",
        "\n",
        "for i in range(len(matrix)):\n",
        "  sum = 0\n",
        "  for j in range(len(vector)):\n",
        "    sum = sum + matrix[i][j]*vector[j]\n",
        "\n",
        "  output.append(sum)\n",
        "    \n",
        "# record the time after the code is run\n",
        "end_time = time.time()\n",
        "\n",
        "# compute the difference\n",
        "diff_1 = end_time - start_time\n",
        "diff_1"
      ],
      "execution_count": null,
      "outputs": [
        {
          "output_type": "execute_result",
          "data": {
            "text/plain": [
              "0.0"
            ]
          },
          "metadata": {
            "tags": []
          },
          "execution_count": 38
        }
      ]
    },
    {
      "cell_type": "code",
      "metadata": {
        "id": "0aBOgCJeIGuv",
        "outputId": "9b4d531a-d1a3-4076-c794-60f7e7cde875",
        "colab": {
          "base_uri": "https://localhost:8080/",
          "height": 34
        }
      },
      "source": [
        "# record the time before running code\n",
        "start_time = time.time()\n",
        "\n",
        "# place code to run here\n",
        "output2 = matrix.dot(vector)\n",
        "    \n",
        "# record the time after the code is run\n",
        "end_time = time.time()\n",
        "\n",
        "# compute the difference\n",
        "diff_2 = end_time - start_time\n",
        "diff_2\n",
        "\n",
        "if diff_2 > diff_1:\n",
        "  print(\"np.dot is faster\")\n",
        "else:\n",
        "  print(\"My code is faster\")"
      ],
      "execution_count": null,
      "outputs": [
        {
          "output_type": "stream",
          "text": [
            "My code is faster\n"
          ],
          "name": "stdout"
        }
      ]
    },
    {
      "cell_type": "markdown",
      "metadata": {
        "id": "LbKJjoHHbzI4"
      },
      "source": [
        "## Part 3. Images [6 pt]\n",
        "\n",
        "A picture or image can be represented as a NumPy array of “pixels”, \n",
        "with dimensions H × W × C, where H is the height of the image, W is the width of the image,\n",
        "and C is the number of colour channels. Typically we will use an image with channels that give the the Red, Green, and Blue “level” of each pixel, which is referred to with the short form RGB.\n",
        "\n",
        "You will write Python code to load an image, and perform several array manipulations to the image and visualize their effects. "
      ]
    },
    {
      "cell_type": "code",
      "metadata": {
        "id": "FRGQKpEgbzI4"
      },
      "source": [
        "import matplotlib.pyplot as plt"
      ],
      "execution_count": null,
      "outputs": []
    },
    {
      "cell_type": "markdown",
      "metadata": {
        "id": "p1D5mtCubzI6"
      },
      "source": [
        "### Part (a) -- 1 pt\n",
        "\n",
        "This is a photograph of a dog whose name is Mochi.\n",
        "\n",
        "![alt text](https://drive.google.com/uc?export=view&id=1oaLVR2hr1_qzpKQ47i9rVUIklwbDcews)\n",
        "\n",
        "Load the image from its url (https://drive.google.com/uc?export=view&id=1oaLVR2hr1_qzpKQ47i9rVUIklwbDcews) into the variable `img` using the `plt.imread` function.\n",
        "\n",
        "Hint: You can enter the URL directly into the `plt.imread` function as a Python string."
      ]
    },
    {
      "cell_type": "code",
      "metadata": {
        "id": "RB8lf73vbzI7"
      },
      "source": [
        "img = plt.imread(\"https://drive.google.com/uc?export=view&id=1oaLVR2hr1_qzpKQ47i9rVUIklwbDcews\")"
      ],
      "execution_count": null,
      "outputs": []
    },
    {
      "cell_type": "markdown",
      "metadata": {
        "id": "mNli5OsbbzI9"
      },
      "source": [
        "### Part (b) -- 1pt\n",
        "\n",
        "Use the function `plt.imshow` to visualize `img`. \n",
        "\n",
        "This function will also show the coordinate system used to identify pixels.\n",
        "The origin is at the top left corner, and the first dimension indicates the Y (row) direction, \n",
        "and the second dimension indicates the X (column) dimension."
      ]
    },
    {
      "cell_type": "code",
      "metadata": {
        "id": "lEeHKc_abzI9",
        "scrolled": false,
        "outputId": "1b33501d-b417-417e-e110-dafe7b19696d",
        "colab": {
          "base_uri": "https://localhost:8080/",
          "height": 286
        }
      },
      "source": [
        "plt.imshow(img)"
      ],
      "execution_count": null,
      "outputs": [
        {
          "output_type": "execute_result",
          "data": {
            "text/plain": [
              "<matplotlib.image.AxesImage at 0x21c992bb108>"
            ]
          },
          "metadata": {
            "tags": []
          },
          "execution_count": 42
        },
        {
          "output_type": "display_data",
          "data": {
            "image/png": "[encoded data removed]",
            "text/plain": [
              "<Figure size 432x288 with 1 Axes>"
            ]
          },
          "metadata": {
            "tags": [],
            "needs_background": "light"
          }
        }
      ]
    },
    {
      "cell_type": "markdown",
      "metadata": {
        "id": "pB-Hx-OFbzJC"
      },
      "source": [
        "### Part (c) -- 2pt\n",
        "\n",
        "Modify the image by adding a constant value of 0.25 to each pixel in the `img` and\n",
        "store the result in the variable `img_add`. Note that, since the range for the pixels \n",
        "needs to be between [0, 1], you will also need to clip img_add to be in the range [0, 1] \n",
        "using `numpy.clip`. Clipping sets any value that is outside of the desired range to the \n",
        "closest endpoint. Display the image using `plt.imshow`."
      ]
    },
    {
      "cell_type": "code",
      "metadata": {
        "id": "GWBhZay2bzJC",
        "outputId": "0b5bafc1-e2fa-4f4c-ada2-76b7376617e8",
        "colab": {
          "base_uri": "https://localhost:8080/",
          "height": 302
        }
      },
      "source": [
        "img_add = None\n",
        "img_add = img\n",
        "\n",
        "for row in range(350):\n",
        "  for col in range(210):\n",
        "    img_add[row][col] = img_add[row][col] + 0.25\n",
        "\n",
        "np.clip(img_add,0, img_add[1][1] + 0.25, img_add)\n",
        "\n",
        "plt.imshow(img_add)"
      ],
      "execution_count": null,
      "outputs": [
        {
          "output_type": "stream",
          "text": [
            "Clipping input data to the valid range for imshow with RGB data ([0..1] for floats or [0..255] for integers).\n"
          ],
          "name": "stderr"
        },
        {
          "output_type": "execute_result",
          "data": {
            "text/plain": [
              "<matplotlib.image.AxesImage at 0x21c99579048>"
            ]
          },
          "metadata": {
            "tags": []
          },
          "execution_count": 43
        },
        {
          "output_type": "display_data",
          "data": {
            "image/png": "[encoded data removed]",
            "text/plain": [
              "<Figure size 432x288 with 1 Axes>"
            ]
          },
          "metadata": {
            "tags": [],
            "needs_background": "light"
          }
        }
      ]
    },
    {
      "cell_type": "markdown",
      "metadata": {
        "id": "DeinKXBCbzJI"
      },
      "source": [
        "### Part (d) -- 2pt\n",
        "\n",
        "Crop the **original** image (`img` variable) to a 130 x 150 image including Mochi's face. Discard the alpha colour channel (i.e. resulting `img_cropped` should **only have RGB channels**)\n",
        "\n",
        "Display the image."
      ]
    },
    {
      "cell_type": "code",
      "metadata": {
        "id": "ULgNwyBLOtrz",
        "outputId": "7a51e678-00ef-43f3-ad9c-811085740f8f",
        "colab": {
          "base_uri": "https://localhost:8080/",
          "height": 302
        }
      },
      "source": [
        "img_cropped = None\n",
        "img_cropped = img_add\n",
        "\n",
        "for row in range(350):\n",
        "  for col in range(210):\n",
        "    if row > 130 or col > 150:\n",
        "      img_cropped[row][col] = 0\n",
        "\n",
        "np.clip(img_cropped, 0, 255, img_cropped)\n",
        "\n",
        "#cropping the picture\n",
        "img_cropped = img_cropped[0:130, 0:150]\n",
        "\n",
        "#removing the alpha colour channel\n",
        "img_cropped = img_cropped[:,:,:3]\n",
        "\n",
        "plt.imshow(img_cropped)"
      ],
      "execution_count": null,
      "outputs": [
        {
          "output_type": "stream",
          "text": [
            "Clipping input data to the valid range for imshow with RGB data ([0..1] for floats or [0..255] for integers).\n"
          ],
          "name": "stderr"
        },
        {
          "output_type": "execute_result",
          "data": {
            "text/plain": [
              "<matplotlib.image.AxesImage at 0x21c995be6c8>"
            ]
          },
          "metadata": {
            "tags": []
          },
          "execution_count": 44
        },
        {
          "output_type": "display_data",
          "data": {
            "image/png": "[encoded data removed]",
            "text/plain": [
              "<Figure size 432x288 with 1 Axes>"
            ]
          },
          "metadata": {
            "tags": [],
            "needs_background": "light"
          }
        }
      ]
    },
    {
      "cell_type": "markdown",
      "metadata": {
        "id": "FmfE9CQdIGva"
      },
      "source": [
        "## Part 4. Basics of PyTorch [6 pt]\n",
        "\n",
        "PyTorch is a Python-based neural networks package. Along with tensorflow, PyTorch is currently one of the most popular machine learning libraries.\n",
        "\n",
        "PyTorch, at its core, is similar to Numpy in a sense that they both \n",
        "try to make it easier to write codes for scientific computing\n",
        "achieve improved performance over vanilla Python by leveraging highly optimized C back-end.\n",
        "However, compare to Numpy, PyTorch offers much better GPU support and provides many high-level features for machine learning. Technically, Numpy can be used to perform almost every thing PyTorch does. However, Numpy would be a lot slower than PyTorch, especially with CUDA GPU, and it would take more effort to write machine learning related code compared to using PyTorch."
      ]
    },
    {
      "cell_type": "code",
      "metadata": {
        "id": "ppRPK-X2IGvb"
      },
      "source": [
        "import torch"
      ],
      "execution_count": null,
      "outputs": []
    },
    {
      "cell_type": "markdown",
      "metadata": {
        "id": "DXrczIrSIGvf"
      },
      "source": [
        "### Part (a) -- 1 pt\n",
        "\n",
        "Use the function `torch.from_numpy` to convert the numpy array `img_cropped` into\n",
        "a PyTorch tensor. Save the result in a variable called `img_torch`."
      ]
    },
    {
      "cell_type": "code",
      "metadata": {
        "id": "j9rYyf4gIGvj",
        "outputId": "7b841636-65da-45ca-d20e-adf692083e51",
        "colab": {
          "base_uri": "https://localhost:8080/",
          "height": 840
        }
      },
      "source": [
        "img_torch = torch.from_numpy(img_cropped)\n",
        "print(img_torch)"
      ],
      "execution_count": null,
      "outputs": [
        {
          "output_type": "stream",
          "text": [
            "tensor([[[0.8382, 0.6225, 0.3990],\n",
            "         [0.8265, 0.6108, 0.3873],\n",
            "         [0.8069, 0.5912, 0.3676],\n",
            "         ...,\n",
            "         [0.8304, 0.5912, 0.3794],\n",
            "         [0.8539, 0.6147, 0.4029],\n",
            "         [0.8657, 0.6265, 0.4147]],\n",
            "\n",
            "        [[0.7912, 0.5716, 0.3402],\n",
            "         [0.8147, 0.5951, 0.3637],\n",
            "         [0.8461, 0.6265, 0.3951],\n",
            "         ...,\n",
            "         [0.8382, 0.5990, 0.3873],\n",
            "         [0.8578, 0.6186, 0.4069],\n",
            "         [0.8696, 0.6304, 0.4186]],\n",
            "\n",
            "        [[0.8657, 0.6265, 0.4029],\n",
            "         [0.8696, 0.6343, 0.3990],\n",
            "         [0.8696, 0.6343, 0.3912],\n",
            "         ...,\n",
            "         [0.8422, 0.6029, 0.3873],\n",
            "         [0.8657, 0.6265, 0.4108],\n",
            "         [0.8775, 0.6382, 0.4225]],\n",
            "\n",
            "        ...,\n",
            "\n",
            "        [[0.8539, 0.6382, 0.4186],\n",
            "         [0.8578, 0.6422, 0.4186],\n",
            "         [0.8618, 0.6461, 0.4225],\n",
            "         ...,\n",
            "         [0.6304, 0.5598, 0.4657],\n",
            "         [0.6265, 0.5559, 0.4618],\n",
            "         [0.6265, 0.5598, 0.4578]],\n",
            "\n",
            "        [[0.8382, 0.6225, 0.4029],\n",
            "         [0.8578, 0.6422, 0.4225],\n",
            "         [0.8696, 0.6539, 0.4304],\n",
            "         ...,\n",
            "         [0.6382, 0.5676, 0.4814],\n",
            "         [0.6304, 0.5598, 0.4657],\n",
            "         [0.6304, 0.5598, 0.4657]],\n",
            "\n",
            "        [[0.8304, 0.6147, 0.3951],\n",
            "         [0.8539, 0.6382, 0.4186],\n",
            "         [0.8735, 0.6578, 0.4382],\n",
            "         ...,\n",
            "         [0.6696, 0.5873, 0.5049],\n",
            "         [0.6539, 0.5716, 0.4892],\n",
            "         [0.6461, 0.5637, 0.4814]]])\n"
          ],
          "name": "stdout"
        }
      ]
    },
    {
      "cell_type": "markdown",
      "metadata": {
        "id": "zrpPeRKtIGvn"
      },
      "source": [
        "### Part (b) -- 1pt\n",
        "\n",
        "Use the method `<Tensor>.shape` to find the shape (dimension and size) of `img_torch`."
      ]
    },
    {
      "cell_type": "code",
      "metadata": {
        "id": "ws7G_aaxIGvn",
        "outputId": "726816bf-30ea-438a-e399-88b799899dce",
        "colab": {
          "base_uri": "https://localhost:8080/",
          "height": 34
        }
      },
      "source": [
        "print(img_torch.shape)"
      ],
      "execution_count": null,
      "outputs": [
        {
          "output_type": "stream",
          "text": [
            "torch.Size([130, 150, 3])\n"
          ],
          "name": "stdout"
        }
      ]
    },
    {
      "cell_type": "markdown",
      "metadata": {
        "id": "uorV8t1pIGvp"
      },
      "source": [
        "### Part (c) -- 1pt\n",
        "\n",
        "How many floating-point numbers are stored in the tensor `img_torch`?"
      ]
    },
    {
      "cell_type": "code",
      "metadata": {
        "id": "sucaE_VCIGvq",
        "outputId": "dbf8be46-68a2-472e-8a48-c006b43ee989",
        "colab": {
          "base_uri": "https://localhost:8080/",
          "height": 34
        }
      },
      "source": [
        "img_torch.dtype, img_torch.numel()"
      ],
      "execution_count": null,
      "outputs": [
        {
          "output_type": "execute_result",
          "data": {
            "text/plain": [
              "(torch.float32, 58500)"
            ]
          },
          "metadata": {
            "tags": []
          },
          "execution_count": 51
        }
      ]
    },
    {
      "cell_type": "markdown",
      "metadata": {
        "id": "ucYwxb6dSb7D"
      },
      "source": [
        "Answer: There are 58500 floating-point numbers, and the type is float32."
      ]
    },
    {
      "cell_type": "markdown",
      "metadata": {
        "id": "sIcXGdg5IGvu"
      },
      "source": [
        "### Part (d) -- 1 pt\n",
        "\n",
        "What does the code `img_torch.transpose(0,2)` do? What does the expression return? \n",
        "Is the original variable `img_torch` updated? Explain."
      ]
    },
    {
      "cell_type": "code",
      "metadata": {
        "id": "omOJqIhEIGvu",
        "outputId": "68d1ab73-d030-4957-fc76-f125a2afab20",
        "colab": {
          "base_uri": "https://localhost:8080/",
          "height": 437
        }
      },
      "source": [
        "img_torch.shape\n",
        "new_img_torch = img_torch.transpose(0,2).clone().detach()\n",
        "print(img_torch.shape)\n",
        "print(new_img_torch.shape)\n",
        "print(new_img_torch)"
      ],
      "execution_count": null,
      "outputs": [
        {
          "output_type": "stream",
          "text": [
            "torch.Size([130, 150, 3])\n",
            "torch.Size([3, 150, 130])\n",
            "tensor([[[0.8382, 0.7912, 0.8657,  ..., 0.8539, 0.8382, 0.8304],\n",
            "         [0.8265, 0.8147, 0.8696,  ..., 0.8578, 0.8578, 0.8539],\n",
            "         [0.8069, 0.8461, 0.8696,  ..., 0.8618, 0.8696, 0.8735],\n",
            "         ...,\n",
            "         [0.8304, 0.8382, 0.8422,  ..., 0.6304, 0.6382, 0.6696],\n",
            "         [0.8539, 0.8578, 0.8657,  ..., 0.6265, 0.6304, 0.6539],\n",
            "         [0.8657, 0.8696, 0.8775,  ..., 0.6265, 0.6304, 0.6461]],\n",
            "\n",
            "        [[0.6225, 0.5716, 0.6265,  ..., 0.6382, 0.6225, 0.6147],\n",
            "         [0.6108, 0.5951, 0.6343,  ..., 0.6422, 0.6422, 0.6382],\n",
            "         [0.5912, 0.6265, 0.6343,  ..., 0.6461, 0.6539, 0.6578],\n",
            "         ...,\n",
            "         [0.5912, 0.5990, 0.6029,  ..., 0.5598, 0.5676, 0.5873],\n",
            "         [0.6147, 0.6186, 0.6265,  ..., 0.5559, 0.5598, 0.5716],\n",
            "         [0.6265, 0.6304, 0.6382,  ..., 0.5598, 0.5598, 0.5637]],\n",
            "\n",
            "        [[0.3990, 0.3402, 0.4029,  ..., 0.4186, 0.4029, 0.3951],\n",
            "         [0.3873, 0.3637, 0.3990,  ..., 0.4186, 0.4225, 0.4186],\n",
            "         [0.3676, 0.3951, 0.3912,  ..., 0.4225, 0.4304, 0.4382],\n",
            "         ...,\n",
            "         [0.3794, 0.3873, 0.3873,  ..., 0.4657, 0.4814, 0.5049],\n",
            "         [0.4029, 0.4069, 0.4108,  ..., 0.4618, 0.4657, 0.4892],\n",
            "         [0.4147, 0.4186, 0.4225,  ..., 0.4578, 0.4657, 0.4814]]])\n"
          ],
          "name": "stdout"
        }
      ]
    },
    {
      "cell_type": "markdown",
      "metadata": {
        "id": "gNHob2SDRQXZ"
      },
      "source": [
        "Explanation: img_torch.transpose(0,2), transposes the tensor. The transpose occurs between the given dimensions in the parameters. In this case, we are transposing between dimension 0 and dimension 2. The expression will return a tensor that is transposed between the given dimensions. The original variable will not be updated and will still contain the original tensor as shown in the code above.\n",
        "\n",
        "\n"
      ]
    },
    {
      "cell_type": "markdown",
      "metadata": {
        "id": "lHrzC0EqIGvx"
      },
      "source": [
        "### Part (e) -- 1 pt\n",
        "\n",
        "What does the code `img_torch.unsqueeze(0)` do? What does the expression return? \n",
        "Is the original variable `img_torch` updated? Explain."
      ]
    },
    {
      "cell_type": "code",
      "metadata": {
        "id": "ZFePj7E5IGvz",
        "outputId": "da727156-44d3-4110-d57b-ea7a1603243a",
        "colab": {
          "base_uri": "https://localhost:8080/",
          "height": 874
        }
      },
      "source": [
        "img_torch.shape\n",
        "new_img_torch_s = img_torch.unsqueeze(0).clone().detach()\n",
        "print(img_torch.shape)\n",
        "print(new_img_torch_s.shape)\n",
        "print(new_img_torch_s)\n"
      ],
      "execution_count": null,
      "outputs": [
        {
          "output_type": "stream",
          "text": [
            "torch.Size([130, 150, 3])\n",
            "torch.Size([1, 130, 150, 3])\n",
            "tensor([[[[0.8382, 0.6225, 0.3990],\n",
            "          [0.8265, 0.6108, 0.3873],\n",
            "          [0.8069, 0.5912, 0.3676],\n",
            "          ...,\n",
            "          [0.8304, 0.5912, 0.3794],\n",
            "          [0.8539, 0.6147, 0.4029],\n",
            "          [0.8657, 0.6265, 0.4147]],\n",
            "\n",
            "         [[0.7912, 0.5716, 0.3402],\n",
            "          [0.8147, 0.5951, 0.3637],\n",
            "          [0.8461, 0.6265, 0.3951],\n",
            "          ...,\n",
            "          [0.8382, 0.5990, 0.3873],\n",
            "          [0.8578, 0.6186, 0.4069],\n",
            "          [0.8696, 0.6304, 0.4186]],\n",
            "\n",
            "         [[0.8657, 0.6265, 0.4029],\n",
            "          [0.8696, 0.6343, 0.3990],\n",
            "          [0.8696, 0.6343, 0.3912],\n",
            "          ...,\n",
            "          [0.8422, 0.6029, 0.3873],\n",
            "          [0.8657, 0.6265, 0.4108],\n",
            "          [0.8775, 0.6382, 0.4225]],\n",
            "\n",
            "         ...,\n",
            "\n",
            "         [[0.8539, 0.6382, 0.4186],\n",
            "          [0.8578, 0.6422, 0.4186],\n",
            "          [0.8618, 0.6461, 0.4225],\n",
            "          ...,\n",
            "          [0.6304, 0.5598, 0.4657],\n",
            "          [0.6265, 0.5559, 0.4618],\n",
            "          [0.6265, 0.5598, 0.4578]],\n",
            "\n",
            "         [[0.8382, 0.6225, 0.4029],\n",
            "          [0.8578, 0.6422, 0.4225],\n",
            "          [0.8696, 0.6539, 0.4304],\n",
            "          ...,\n",
            "          [0.6382, 0.5676, 0.4814],\n",
            "          [0.6304, 0.5598, 0.4657],\n",
            "          [0.6304, 0.5598, 0.4657]],\n",
            "\n",
            "         [[0.8304, 0.6147, 0.3951],\n",
            "          [0.8539, 0.6382, 0.4186],\n",
            "          [0.8735, 0.6578, 0.4382],\n",
            "          ...,\n",
            "          [0.6696, 0.5873, 0.5049],\n",
            "          [0.6539, 0.5716, 0.4892],\n",
            "          [0.6461, 0.5637, 0.4814]]]])\n"
          ],
          "name": "stdout"
        }
      ]
    },
    {
      "cell_type": "markdown",
      "metadata": {
        "id": "Kc5EiQeYZm4Q"
      },
      "source": [
        "Explanation: img_torch.unsqueeze(0) adds a new dimension of size 1 at the given dimension in the parameters. In this case we are adding a dimension of size 1 in dimension 0. The expression will return a new tensor that has one more dimension of size 1 at the given dimension. As shown in the code above, the method does not change the orignial variable that holds the tensor."
      ]
    },
    {
      "cell_type": "markdown",
      "metadata": {
        "id": "re16jTB9IGv0"
      },
      "source": [
        "### Part (f) -- 1 pt\n",
        "\n",
        "Find the maximum value of `img_torch` along each colour channel? Your output should be a one-dimensional\n",
        "PyTorch tensor with exactly three values.\n",
        "\n",
        "Hint: lookup the function `torch.max`."
      ]
    },
    {
      "cell_type": "code",
      "metadata": {
        "id": "c_d__WgsSnyq",
        "outputId": "404e2632-f436-4e2d-ebda-0c0f7ff8ec8a",
        "colab": {
          "base_uri": "https://localhost:8080/",
          "height": 34
        }
      },
      "source": [
        "red_channel = img_torch[..., 0].flatten()\n",
        "green_channel = img_torch[..., 1].flatten()\n",
        "blue_channel = img_torch[..., 2].flatten()\n",
        "final = torch.stack([red_channel, green_channel, blue_channel])\n",
        "final.max(1)\n"
      ],
      "execution_count": null,
      "outputs": [
        {
          "output_type": "execute_result",
          "data": {
            "text/plain": [
              "torch.return_types.max(\n",
              "values=tensor([1.0647, 0.8451, 0.6137]),\n",
              "indices=tensor([7414, 6514, 1853]))"
            ]
          },
          "metadata": {
            "tags": []
          },
          "execution_count": 54
        }
      ]
    },
    {
      "cell_type": "markdown",
      "metadata": {
        "id": "rSWVJul6d0cR"
      },
      "source": [
        "Hence the following max RGB values are:\n",
        "\n",
        "R: 1.0647\n",
        "\n",
        "G: 0.8451\n",
        "\n",
        "B: 0.6137"
      ]
    },
    {
      "cell_type": "markdown",
      "metadata": {
        "id": "3hhA2sX0au0D"
      },
      "source": [
        "## Part 5. Training an ANN [10 pt]\n",
        "\n",
        "The sample code provided below is a 2-layer ANN trained on the MNIST dataset to identify digits less than 3 or greater than and equal to 3. Modify the code by changing any of the following and observe how the accuracy and error are affected:\n",
        "\n",
        "- number of training iterations\n",
        "- number of hidden units\n",
        "- numbers of layers\n",
        "- types of activation functions\n",
        "- learning rate\n",
        "\n"
      ]
    },
    {
      "cell_type": "code",
      "metadata": {
        "id": "GGtthiz1tDh5",
        "outputId": "662e1928-146b-4618-c13e-56ba9f7041cc",
        "colab": {
          "base_uri": "https://localhost:8080/",
          "height": 84
        }
      },
      "source": [
        "import torch\n",
        "import torch.nn as nn\n",
        "import torch.nn.functional as F\n",
        "from torchvision import datasets, transforms\n",
        "import matplotlib.pyplot as plt # for plotting\n",
        "import torch.optim as optim\n",
        "\n",
        "torch.manual_seed(1) # set the random seed\n",
        "\n",
        "# define a 2-layer artificial neural network\n",
        "class Pigeon(nn.Module):\n",
        "    def __init__(self):\n",
        "        super(Pigeon, self).__init__()\n",
        "        self.layer1 = nn.Linear(28 * 28, 60)\n",
        "        self.layer2 = nn.Linear(60, 1)\n",
        "    def forward(self, img):\n",
        "        flattened = img.view(-1, 28 * 28)\n",
        "        activation1 = self.layer1(flattened)\n",
        "        activation1 = F.relu(activation1)\n",
        "        activation2 = self.layer2(activation1)\n",
        "        return activation2\n",
        "\n",
        "pigeon = Pigeon()\n",
        "\n",
        "# load the data\n",
        "mnist_data = datasets.MNIST('data', train=True, download=True)\n",
        "mnist_data = list(mnist_data)\n",
        "mnist_train = mnist_data[:1000]\n",
        "mnist_val   = mnist_data[1000:2000]\n",
        "img_to_tensor = transforms.ToTensor()\n",
        "      \n",
        "    \n",
        "# simplified training code to train `pigeon` on the \"small digit recognition\" task\n",
        "criterion = nn.BCEWithLogitsLoss()\n",
        "optimizer = optim.SGD(pigeon.parameters(), lr=0.005, momentum=0.9)\n",
        "\n",
        "for n in range(10):\n",
        "  for (image, label) in mnist_train:\n",
        "      # actual ground truth: is the digit less than 3?\n",
        "      actual = torch.tensor(label < 3).reshape([1,1]).type(torch.FloatTensor)\n",
        "      # pigeon prediction\n",
        "      out = pigeon(img_to_tensor(image)) # step 1-2\n",
        "      # update the parameters based on the loss\n",
        "      loss = criterion(out, actual)      # step 3\n",
        "      loss.backward()                    # step 4 (compute the updates for each parameter)\n",
        "      optimizer.step()                   # step 4 (make the updates for each parameter)\n",
        "      optimizer.zero_grad()              # a clean up step for PyTorch\n",
        "\n",
        "\n",
        "\n",
        "# computing the error and accuracy on the training set\n",
        "error = 0\n",
        "for (image, label) in mnist_train:\n",
        "    prob = torch.sigmoid(pigeon(img_to_tensor(image)))\n",
        "    if (prob < 0.5 and label < 3) or (prob >= 0.5 and label >= 3):\n",
        "        error += 1\n",
        "print(\"Training Error Rate:\", error/len(mnist_train))\n",
        "print(\"Training Accuracy:\", 1 - error/len(mnist_train))\n",
        "\n",
        "\n",
        "# computing the error and accuracy on a test set\n",
        "error = 0\n",
        "for (image, label) in mnist_val:\n",
        "    prob = torch.sigmoid(pigeon(img_to_tensor(image)))\n",
        "    if (prob < 0.5 and label < 3) or (prob >= 0.5 and label >= 3):\n",
        "        error += 1\n",
        "print(\"Test Error Rate:\", error/len(mnist_val))\n",
        "print(\"Test Accuracy:\", 1 - error/len(mnist_val))"
      ],
      "execution_count": null,
      "outputs": [
        {
          "output_type": "error",
          "ename": "ModuleNotFoundError",
          "evalue": "No module named 'torchvision'",
          "traceback": [
            "\u001b[1;31m---------------------------------------------------------------------------\u001b[0m",
            "\u001b[1;31mModuleNotFoundError\u001b[0m                       Traceback (most recent call last)",
            "\u001b[1;32m<ipython-input-57-0ef9a2aa627e>\u001b[0m in \u001b[0;36m<module>\u001b[1;34m\u001b[0m\n\u001b[0;32m      2\u001b[0m \u001b[1;32mimport\u001b[0m \u001b[0mtorch\u001b[0m\u001b[1;33m.\u001b[0m\u001b[0mnn\u001b[0m \u001b[1;32mas\u001b[0m \u001b[0mnn\u001b[0m\u001b[1;33m\u001b[0m\u001b[1;33m\u001b[0m\u001b[0m\n\u001b[0;32m      3\u001b[0m \u001b[1;32mimport\u001b[0m \u001b[0mtorch\u001b[0m\u001b[1;33m.\u001b[0m\u001b[0mnn\u001b[0m\u001b[1;33m.\u001b[0m\u001b[0mfunctional\u001b[0m \u001b[1;32mas\u001b[0m \u001b[0mF\u001b[0m\u001b[1;33m\u001b[0m\u001b[1;33m\u001b[0m\u001b[0m\n\u001b[1;32m----> 4\u001b[1;33m \u001b[1;32mfrom\u001b[0m \u001b[0mtorchvision\u001b[0m \u001b[1;32mimport\u001b[0m \u001b[0mdatasets\u001b[0m\u001b[1;33m,\u001b[0m \u001b[0mtransforms\u001b[0m\u001b[1;33m\u001b[0m\u001b[1;33m\u001b[0m\u001b[0m\n\u001b[0m\u001b[0;32m      5\u001b[0m \u001b[1;32mimport\u001b[0m \u001b[0mmatplotlib\u001b[0m\u001b[1;33m.\u001b[0m\u001b[0mpyplot\u001b[0m \u001b[1;32mas\u001b[0m \u001b[0mplt\u001b[0m \u001b[1;31m# for plotting\u001b[0m\u001b[1;33m\u001b[0m\u001b[1;33m\u001b[0m\u001b[0m\n\u001b[0;32m      6\u001b[0m \u001b[1;32mimport\u001b[0m \u001b[0mtorch\u001b[0m\u001b[1;33m.\u001b[0m\u001b[0moptim\u001b[0m \u001b[1;32mas\u001b[0m \u001b[0moptim\u001b[0m\u001b[1;33m\u001b[0m\u001b[1;33m\u001b[0m\u001b[0m\n",
            "\u001b[1;31mModuleNotFoundError\u001b[0m: No module named 'torchvision'"
          ]
        }
      ]
    },
    {
      "cell_type": "markdown",
      "metadata": {
        "id": "Un7qf1_JdZyP"
      },
      "source": [
        "**These are the intial hyperparameters, during each modificaiton, only one hyperparameter will be changed while the rest will be held constant:**\n",
        "\n",
        "1. Training Iterations: 1 \n",
        "2. Hidden Units: 30\n",
        "3. Layers: 2\n",
        "4. Activation function: ReLU\n",
        "5. Learning Rate: 0.005\n",
        "\n",
        "Results:\n",
        "\n",
        "Training Error Rate: 0.036\n",
        "\n",
        "Training Accuracy: 0.964\n",
        "\n",
        "Test Error Rate: 0.079\n",
        "\n",
        "Test Accuracy: 0.921\n",
        "\n",
        "###**Changing the number of training iterations:** \n",
        "\n",
        "####Results when using **2** training iterations:\n",
        "Training Error Rate: 0.016\n",
        "\n",
        "Training Accuracy: 0.984\n",
        "\n",
        "Test Error Rate: 0.057\n",
        "\n",
        "Test Accuracy: 0.943\n",
        "\n",
        "\n",
        "####Results when using **3** training iterations:\n",
        "Training Error Rate: 0.014\n",
        "\n",
        "Training Accuracy: 0.986\n",
        "\n",
        "Test Error Rate: 0.069\n",
        "\n",
        "Test Accuracy: 0.931\n",
        "####Results when using **5** training iterations:\n",
        "Training Error Rate: 0.011\n",
        "\n",
        "Training Accuracy: 0.989\n",
        "\n",
        "Test Error Rate: 0.066\n",
        "\n",
        "Test Accuracy: 0.9339999999999999\n",
        "\n",
        "#####Results when using **10** training iterations:\n",
        "Training Error Rate: 0.001\n",
        "\n",
        "Training Accuracy: 0.999\n",
        "\n",
        "Test Error Rate: 0.059\n",
        "\n",
        "Test Accuracy: 0.9410000000000001\n",
        "###Observations:\n",
        "\n",
        "Best training results are achieved from having 10 iterations, near perfect accuracy and null error. (0.999)\n",
        "\n",
        "Best testing results are achieved from having 2 training iterations. (0.943) \n",
        "\n",
        "###**Changing the number of hidden units:**\n",
        "\n",
        "####Results when using **20** hidden units:\n",
        "\n",
        "Training Error Rate: 0.035\n",
        "\n",
        "Training Accuracy: 0.965\n",
        "\n",
        "Test Error Rate: 0.088\n",
        "\n",
        "Test Accuracy: 0.912\n",
        "\n",
        "####Results when using **40** hidden units:\n",
        "\n",
        "Training Error Rate: 0.031\n",
        "\n",
        "Training Accuracy: 0.969\n",
        "\n",
        "Test Error Rate: 0.074\n",
        "\n",
        "Test Accuracy: 0.926\n",
        "\n",
        "####Results when using **50** hidden units:\n",
        "\n",
        "Training Error Rate: 0.033\n",
        "\n",
        "Training Accuracy: 0.967\n",
        "\n",
        "Test Error Rate: 0.074\n",
        "\n",
        "Test Accuracy: 0.926\n",
        "\n",
        "####Results when using **60** hidden units:\n",
        "\n",
        "Training Error Rate: 0.031\n",
        "\n",
        "Training Accuracy: 0.969\n",
        "\n",
        "Test Error Rate: 0.08\n",
        "\n",
        "Test Accuracy: 0.92\n",
        "\n",
        "####Observations:\n",
        "\n",
        "In terms of training, the best results arrive from using 40 or 60 hidden units. (0.969)\n",
        "\n",
        "In terms of testing, the best results arrive from using 40 or 50 hidden units. (0.926)\n",
        "\n",
        "###**Changing the number of layers:**\n",
        "\n",
        "####Results when using **3rd** layer with 30 hidden units:\n",
        "\n",
        "Training Error Rate: 0.045\n",
        "\n",
        "Training Accuracy: 0.955\n",
        "\n",
        "Test Error Rate: 0.079\n",
        "\n",
        "Test Accuracy: 0.921\n",
        "\n",
        "####Results when using **3rd** layer with 15 hidden units:\n",
        "\n",
        "Training Error Rate: 0.041\n",
        "\n",
        "Training Accuracy: 0.959\n",
        "\n",
        "Test Error Rate: 0.1\n",
        "\n",
        "Test Accuracy: 0.9\n",
        "\n",
        "####Results when using a **4th** layer with 30 hidden units (3rd - 30 units):\n",
        "\n",
        "Training Error Rate: 0.041\n",
        "\n",
        "Training Accuracy: 0.959\n",
        "\n",
        "Test Error Rate: 0.093\n",
        "\n",
        "Test Accuracy: 0.907\n",
        "\n",
        "####Results when using a **4th** layer with 15 hidden units(3rd - 30 units):\n",
        "\n",
        "Training Error Rate: 0.058\n",
        "\n",
        "Training Accuracy: 0.942\n",
        "\n",
        "Test Error Rate: 0.113\n",
        "\n",
        "Test Accuracy: 0.887\n",
        "\n",
        "####Observations:\n",
        "\n",
        "When looking at results from training data having the original (2- layer) network yeilds the best results. (0.964)\n",
        "\n",
        "Similar to the training data, the best results for testing are arrive from the 2-layer neural network. (0.921)\n",
        "\n",
        "###**Changing the types of activation functions:**\n",
        "Note we are changing the activation function for the hidden layer.\n",
        "\n",
        "####Using **tanh** activation function:\n",
        "\n",
        "Training Error Rate: 0.04\n",
        "\n",
        "Training Accuracy: 0.96\n",
        "\n",
        "Test Error Rate: 0.094\n",
        "\n",
        "Test Accuracy: 0.906\n",
        "\n",
        "####Using **sigmoid** activation function:\n",
        "\n",
        "Training Error Rate: 0.073\n",
        "\n",
        "Training Accuracy: 0.927\n",
        "\n",
        "Test Error Rate: 0.117\n",
        "\n",
        "Test Accuracy: 0.883\n",
        "\n",
        "####Using **elu** activation function:\n",
        "\n",
        "Training Error Rate: 0.044\n",
        "\n",
        "Training Accuracy: 0.956\n",
        "\n",
        "Test Error Rate: 0.098\n",
        "\n",
        "Test Accuracy: 0.902\n",
        "\n",
        "####Observations:\n",
        "\n",
        "Comparing the activation functions above they all seem to perform worse than the ReLU function for both training and testing. (0.964) (0.921)\n",
        "\n",
        "###**Changing the learning rate:**\n",
        "\n",
        "####Results from using learning rate of **0.001**:\n",
        "Training Error Rate: 0.078\n",
        "\n",
        "Training Accuracy: 0.922\n",
        "\n",
        "Test Error Rate: 0.113\n",
        "\n",
        "Test Accuracy: 0.887\n",
        "\n",
        "####Results from using learning rate of **0.01**:\n",
        "Training Error Rate: 0.039\n",
        "\n",
        "Training Accuracy: 0.961\n",
        "\n",
        "Test Error Rate: 0.082\n",
        "\n",
        "Test Accuracy: 0.918\n",
        "####Results from using learning rate of **0.1**:\n",
        "Training Error Rate: 0.312\n",
        "\n",
        "Training Accuracy: 0.688\n",
        "\n",
        "Test Error Rate: 0.297\n",
        "\n",
        "Test Accuracy: 0.7030000000000001\n",
        "####Results from using learning rate of **1**:\n",
        "Training Error Rate: 0.311\n",
        "\n",
        "Training Accuracy: 0.6890000000000001\n",
        "\n",
        "Test Error Rate: 0.298\n",
        "\n",
        "Test Accuracy: 0.702\n",
        "\n",
        "####Observations:\n",
        "The best results are achieved when using the original learning rate of 0.005 for both training and testing. (0.964) (0.921)\n"
      ]
    },
    {
      "cell_type": "markdown",
      "metadata": {
        "id": "0e8AxE1ZHDPN"
      },
      "source": [
        "**From the above results, lets combine the change of hyperparameters to see if we can find the best training accuracy.**\n",
        "\n",
        "1. Training Iterations: 10 \n",
        "2. Hidden Units: 40\n",
        "3. Layers: 2\n",
        "4. Activation function: ReLU\n",
        "5. Learning Rate: 0.005\n",
        "\n",
        "Results:\n",
        "\n",
        "Training Error Rate: 0.0\n",
        "\n",
        "Training Accuracy: 1.0\n",
        "\n",
        "Test Error Rate: 0.059\n",
        "\n",
        "Test Accuracy: 0.9410000000000001"
      ]
    },
    {
      "cell_type": "markdown",
      "metadata": {
        "id": "tqDghPt1JVsY"
      },
      "source": [
        "**From the above results, lets combine the change of hyperparameters to see if we can find the best testing accuracy.**\n",
        "\n",
        "1. Training Iterations: 2 \n",
        "2. Hidden Units: 40\n",
        "3. Layers: 2\n",
        "4. Activation function: ReLU\n",
        "5. Learning Rate: 0.005\n",
        "\n",
        "Results:\n",
        "\n",
        "Training Error Rate: 0.02\n",
        "\n",
        "Training Accuracy: 0.98\n",
        "\n",
        "Test Error Rate: 0.062\n",
        "\n",
        "Test Accuracy: 0.938\n",
        "\n",
        "These results do not seem to be as good as solely adjusting the parameters. \n",
        "\n",
        "Further adjusting the values, using these specificaitons I was able to achieve a higher accuracy than any of the previous results:\n",
        "\n",
        "1. Training Iterations: 10\n",
        "2. Hidden Units: 60\n",
        "3. Layers: 2\n",
        "4. Activation function: ReLU\n",
        "5. Learning Rate: 0.005\n",
        "\n",
        "Results:\n",
        "\n",
        "Training Error Rate: 0.0\n",
        "\n",
        "Training Accuracy: 1.0\n",
        "\n",
        "Test Error Rate: 0.054\n",
        "\n",
        "Test Accuracy: 0.946"
      ]
    },
    {
      "cell_type": "markdown",
      "metadata": {
        "id": "viYKlFupcgF3"
      },
      "source": [
        "### Part (a) -- 3 pt\n",
        "Comment on which of the above changes resulted in the best accuracy on training data? What accuracy were you able to achieve?"
      ]
    },
    {
      "cell_type": "markdown",
      "metadata": {
        "id": "I3N-uJgUIJws"
      },
      "source": [
        "Answer: Using the best combination of hyperparameters, the best training accuracy achieved was 1.0. The hyperparameters that were changed were the training iterations(10) and the hidden units(40)."
      ]
    },
    {
      "cell_type": "markdown",
      "metadata": {
        "id": "pi6bWs7jcIem"
      },
      "source": [
        "### Part (b) -- 3 pt\n",
        "\n",
        "\n",
        "Comment on which of the above changes resulted in the best accuracy on testing data? What accuracy were you able to achieve?"
      ]
    },
    {
      "cell_type": "markdown",
      "metadata": {
        "id": "03XNq48rMl3R"
      },
      "source": [
        "Answer: After combining the hyperparameters and adjusting them further, the best testing accuracy I was able to achieve was 0.946. The parameters I changed were training iterations(10) and hidden units(60)."
      ]
    },
    {
      "cell_type": "markdown",
      "metadata": {
        "id": "j7W2k347wFqo"
      },
      "source": [
        "### Part (c) -- 4 pt\n",
        "Which model hyperparameters should you use, the ones from (a) or (b)?"
      ]
    },
    {
      "cell_type": "markdown",
      "metadata": {
        "id": "oClJOmcfNah6"
      },
      "source": [
        "Answer: The model hyperparameters I should use and that are more important, are the ones that yield the highest testing accuracy, so, (b). Having a great testing accuracy can also result into overfitting the data, which may allow for weaker testing accuracy. "
      ]
    },
    {
      "cell_type": "code",
      "metadata": {
        "id": "nuESNMuewOnT"
      },
      "source": [
        ""
      ],
      "execution_count": null,
      "outputs": []
    },
    {
      "cell_type": "code",
      "metadata": {
        "id": "7k7PLeM-16dj"
      },
      "source": [
        ""
      ],
      "execution_count": null,
      "outputs": []
    }
  ]
}